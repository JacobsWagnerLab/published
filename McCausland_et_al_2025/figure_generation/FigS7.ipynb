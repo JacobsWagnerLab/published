{
 "cells": [
  {
   "cell_type": "markdown",
   "metadata": {},
   "source": [
    "<script src=\"https://polyfill.io/v3/polyfill.min.js?features=es6\"></script> \n",
    "<script id=\"MathJax-script\" async src=\"https://cdn.jsdelivr.net/npm/mathjax@3.0.1/es5/tex-mml-chtml.js\"></script>\n",
    "\n",
    "# Figure S7: BSK-II alone and Rabbit Serum can digest purified peptidoglycan. \n",
    "- Irnov Irnov purified the *Borrlia burgdorferi* peptidoglycan for this experiment. \n",
    "- Irnov Irnov designed and completed the original experiment. He tested many different potential media sources.\n",
    "- Joshua W. McCausland wrote the code and analyzed the data. \n",
    "\n",
    "\n",
    "The outline is similar to main figure experiments. \n",
    "- Convert raw mzML files to pandas dataframes. \n",
    "- Plot the species of interest."
   ]
  },
  {
   "cell_type": "code",
   "execution_count": 1,
   "metadata": {},
   "outputs": [],
   "source": [
    "import numpy as np\n",
    "import pandas as pd\n",
    "from matplotlib import pyplot as plt,ticker\n",
    "import seaborn as sns\n",
    "plt.rcParams[\"font.family\"] = \"Arial\" #Set global font to arial\n",
    "import glob,os\n",
    "import warnings\n",
    "warnings.filterwarnings(\"ignore\")\n",
    "\n",
    "# This is a pallet of color blind friendly colors.\n",
    "CB_color_cycle = {\n",
    "    'blue':    '#377eb8', \n",
    "    'orange':  '#ff7f00',\n",
    "    'green':   '#4daf4a',\n",
    "    'pink':    '#f781bf',\n",
    "    'brown':   '#a65628',\n",
    "    'purple':  '#984ea3',\n",
    "    'gray':    '#999999',\n",
    "    'red':     '#e41a1c',\n",
    "    'yellow':  '#dede00'\n",
    "} \n",
    "def y_fmt(x, y): \n",
    "    return f'{x/1e6:.1f}'.format(x).split('e')[0]\n",
    "\n",
    "def refine_mass(df,ppm = 20,mass_to_search = 0):\n",
    "    low_mass = mass_to_search - (ppm*mass_to_search/1e6)\n",
    "    high_mass = mass_to_search + (ppm*mass_to_search/1e6)\n",
    "    result = df.apply(lambda row: np.sum(row.peaks[np.where(np.logical_and(row.mz >= low_mass, row.mz <= high_mass))]) if row.peaks[np.where(np.logical_and(row.mz > low_mass, row.mz < high_mass))].shape[0] > 0 else 0,axis=1)\n",
    "    return result "
   ]
  },
  {
   "cell_type": "markdown",
   "metadata": {},
   "source": [
    "Convert all of the mzML files to Pandas dataframes. The filenames here have a number key, so I define them here for translation. "
   ]
  },
  {
   "cell_type": "code",
   "execution_count": 5,
   "metadata": {},
   "outputs": [
    {
     "data": {
      "text/plain": [
       "[]"
      ]
     },
     "execution_count": 5,
     "metadata": {},
     "output_type": "execute_result"
    }
   ],
   "source": [
    "from pymzml.run import Reader\n",
    "experiment_directory = f'//mothership2.stanford.edu/Data_04/Previous_memberB/Irnov Irnov/Scientist-Stanford/Data/LCMS/Data/QTOF/PolarC18/2022/20220510-PolarC18-BSKcomponent/*.mzML'\n",
    "FileList = glob.glob(experiment_directory)\n",
    "\n",
    "exp_key  = {\n",
    "    1: 'BSK-Irnov',\n",
    "    2: 'BSK-Zach',\n",
    "    3: 'SFE-Irnov',\n",
    "    4: 'BSA-CJW',\n",
    "    5: 'BSA-Zach',\n",
    "    6: 'RabbitSerum-CJW',\n",
    "    7: 'RabbitSerum-Zach',\n",
    "    8: 'Yeastolate-CJW',\n",
    "    9: 'Yeastolate-Zach',\n",
    "    10: 'NHS-100',\n",
    "    11: 'NHS-6',\n",
    "    12: 'Water',\n",
    "    13: 'BSK-Irnov',\n",
    "    14: 'BSK-Zach',\n",
    "    15: 'SFE-Irnov',\n",
    "    16: 'BSA-CJW',\n",
    "    17: 'BSA-Zach',\n",
    "    18: 'RabbitSerum-CJW',\n",
    "    19: 'RabbitSerum-Zach',\n",
    "    20: 'Yeastolate-CJW',\n",
    "    21: 'Yeastolate-Zach',\n",
    "    22: 'NHS-100',\n",
    "    23: 'NHS-6',\n",
    "    24: 'Water'\n",
    "}\n",
    "\n",
    "saving_directory = '//mothership2.stanford.edu/Common/Science communication/Manuscripts/Papers/2024/Bb PG shedding/Draft_figures/SourceData/FigS6/pickle_data'\n",
    "\n",
    "for file in FileList:\n",
    "    filename = os.path.basename(file).removesuffix('.mzML')\n",
    "    if not filename.split('_')[1] == 'water':\n",
    "        file_num = filename.split('_')[0]\n",
    "        translation = exp_key[int(filename.split('_')[1])]\n",
    "        run = Reader(file)\n",
    "        run_df = pd.DataFrame({'scanID': [key for key in run.info['offset_dict'].keys() if str(key).isnumeric()]})\n",
    "        run_df['time'] = run_df.scanID.apply(lambda row: run[row].scan_time_in_minutes())\n",
    "        run_df['mz'] = run_df.scanID.apply(lambda row: run[row].mz)\n",
    "        run_df['peaks'] = run_df.scanID.apply(lambda row: run[row].centroidedPeaks)\n",
    "        run_df['peaks'] = run_df.peaks.apply(lambda row: np.column_stack(row)[1] if row.shape[0] > 0 else row)\n",
    "        run_df.to_pickle(f'{saving_directory}/{file_num}_{translation}.pkl')"
   ]
  },
  {
   "cell_type": "markdown",
   "metadata": {},
   "source": [
    "Merge the BSk and rabbit serum dataframes, construct EICs then plot the integrated values. "
   ]
  },
  {
   "cell_type": "code",
   "execution_count": 14,
   "metadata": {},
   "outputs": [
    {
     "data": {
      "image/png": "[encoded data removed]",
      "text/plain": [
       "<Figure size 400x250 with 2 Axes>"
      ]
     },
     "metadata": {},
     "output_type": "display_data"
    }
   ],
   "source": [
    "species_to_plot = ['Z','AEOG']\n",
    "sum_windows = [[7,7.5],[1.3,2.4]]\n",
    "\n",
    "def y_fmt(x, y): \n",
    "    return f'{x/1e6:.1f}'.format(x).split('e')[0]\n",
    "\n",
    "def refine_mass(df,ppm = 20,mass_to_search = 0):\n",
    "    low_mass = mass_to_search - (ppm*mass_to_search/1e6)\n",
    "    high_mass = mass_to_search + (ppm*mass_to_search/1e6)\n",
    "    result = df.apply(lambda row: np.sum(row.peaks[np.where(np.logical_and(row.mz >= low_mass, row.mz <= high_mass))]) if row.peaks[np.where(np.logical_and(row.mz > low_mass, row.mz < high_mass))].shape[0] > 0 else 0,axis=1)\n",
    "    return result\n",
    "\n",
    "reference_df = pd.read_pickle('included_small_datasets/muropeptide_reference_df.pkl').drop_duplicates()\n",
    "reference_df = reference_df[reference_df.Species.isin(species_to_plot)]\n",
    "#_mass = reference_df.mz_plus_1.values[0]\n",
    "\n",
    "if 'merged_df' not in locals():\n",
    "    experiment_directory = '//mothership2.stanford.edu/Common/Science communication/Manuscripts/Papers/2024/Bb PG shedding/Draft_figures/SourceData/FigS6/pickle_data'\n",
    "    FileList = glob.glob(f'{experiment_directory}/*BSK*') + glob.glob(f'{experiment_directory}/*Rabbit*')\n",
    "    merged_df = pd.DataFrame()\n",
    "    for file in FileList:\n",
    "        temp_df = pd.read_pickle(file)\n",
    "        temp_df['file'] = os.path.basename(file).removesuffix('.pkl')\n",
    "        merged_df = pd.concat([merged_df,temp_df])\n",
    "    merged_df['media'] = merged_df.file.apply(lambda x: x.split('_')[1].split('-')[0])\n",
    "    merged_df['replicate'] = merged_df.file.apply(lambda x: 2 if x.split('_')[1].split('-')[1] == 'Zach' else 1)\n",
    "    merged_df['pg'] = merged_df.file.apply(lambda x: 'plus' if int(x.split('_')[0]) < 10 else 'minus')\n",
    "    for _,row in reference_df.iterrows():\n",
    "        merged_df[row.Species] = refine_mass(merged_df,mass_to_search=row.mz_plus_1,ppm=20)\n",
    "    merged_df['media'] = merged_df.file.apply(lambda x: x.split('_')[1].split('-')[0])\n",
    "\n",
    "for _sum_window,_species in zip(sum_windows,species_to_plot):\n",
    "    df = merged_df[merged_df.time.between(_sum_window[0],_sum_window[1])].groupby(['media','pg','replicate']).sum(numeric_only=True).drop(['scanID','time'],axis=1)\n",
    "df = df.reset_index()\n",
    "\n",
    "media = ['BSK','RabbitSerum']\n",
    "titles = ['BSK-II\\n(6% heat-inactivated rabbit serum)','100% heat-inactivated\\nrabbit serum']\n",
    "fig,axs = plt.subplots(ncols = 2,figsize=[4,2.5],layout='constrained')\n",
    "\n",
    "for _ax,grouped,_title in zip(axs,df.groupby('media'),titles):\n",
    "    key,grp = grouped\n",
    "    sns.barplot(data=grp,x='pg',y='AEOG',ax=_ax,color='lightgray',errcolor='gray',errwidth=1.7,errorbar=None)\n",
    "    sns.swarmplot(data=grp,x='pg',y='AEOG',ax=_ax,size=5,legend=False,color= 'black')\n",
    "    _ax.tick_params(axis='both',labelsize=9)\n",
    "    _ax.set_title(_title,fontsize=9)\n",
    "    _ax.set_ylim(bottom=0)\n",
    "    _ax.set_xticklabels(['- PG','+ PG'],usetex=True)\n",
    "    _ax.set_ylabel('Extracted ion counts (x$10^6$)',fontsize=9)\n",
    "    _ax.set_xlabel('')\n",
    "    _ax.spines[['left','bottom']].set_linewidth(1.2)\n",
    "    _ax.spines[['right','top']].set_visible(False)\n",
    "    _ax.yaxis.set_major_formatter(ticker.FuncFormatter(y_fmt))"
   ]
  }
 ],
 "metadata": {
  "kernelspec": {
   "display_name": "Python 3",
   "language": "python",
   "name": "python3"
  },
  "language_info": {
   "codemirror_mode": {
    "name": "ipython",
    "version": 3
   },
   "file_extension": ".py",
   "mimetype": "text/x-python",
   "name": "python",
   "nbconvert_exporter": "python",
   "pygments_lexer": "ipython3",
   "version": "3.10.14"
  }
 },
 "nbformat": 4,
 "nbformat_minor": 2
}
